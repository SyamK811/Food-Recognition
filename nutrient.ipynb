{
 "cells": [
  {
   "cell_type": "code",
   "execution_count": 1,
   "metadata": {},
   "outputs": [],
   "source": [
    "import os\n",
    "import requests\n",
    "import pandas as pd\n",
    "import time\n",
    "\n",
    "# Nutritionix API credentials\n",
    "app_id = '73bb8352'\n",
    "app_key = '4209d163310dd554f8f4abd1406e7aad'\n",
    "\n",
    "# Path to your directory containing 101 food classes\n",
    "train_set_dir = r\"C:\\Users\\HP-NBT\\Desktop\\project\\food101\\train\"\n",
    "\n",
    "# List all subdirectories in train_set as food categories\n",
    "food101_categories = [folder for folder in os.listdir(train_set_dir) if os.path.isdir(os.path.join(train_set_dir, folder))]\n",
    "\n"
   ]
  },
  {
   "cell_type": "code",
   "execution_count": 3,
   "metadata": {},
   "outputs": [
    {
     "name": "stdout",
     "output_type": "stream",
     "text": [
      "Failed to fetch data for tuna_tartare: 401\n",
      "Failed to fetch data for waffles: 401\n",
      "Nutritional data saved to food101_dataset_nutritional_values.csv\n"
     ]
    }
   ],
   "source": [
    "# Function to fetch nutritional values for a given food item\n",
    "def fetch_nutritional_values(food_item):\n",
    "    url = f\"https://trackapi.nutritionix.com/v2/natural/nutrients\"\n",
    "    headers = {\n",
    "        'x-app-id': app_id,\n",
    "        'x-app-key': app_key,\n",
    "        'Content-Type': 'application/json'\n",
    "    }\n",
    "    data = {\n",
    "        \"query\": food_item,\n",
    "        \"timezone\": \"US/Eastern\"\n",
    "    }\n",
    "\n",
    "    response = requests.post(url, headers=headers, json=data)\n",
    "    if response.status_code == 200:\n",
    "        result = response.json()\n",
    "        if result and 'foods' in result and len(result['foods']) > 0:\n",
    "            food_data = result['foods'][0]\n",
    "            nutritional_values = {\n",
    "                \"food\": food_item,\n",
    "                \"calories\": food_data.get('nf_calories', \"N/A\"),\n",
    "                \"protein\": food_data.get('nf_protein', \"N/A\"),\n",
    "                \"fat\": food_data.get('nf_total_fat', \"N/A\"),\n",
    "                \"carbohydrates\": food_data.get('nf_total_carbohydrate', \"N/A\")\n",
    "            }\n",
    "            return nutritional_values\n",
    "    else:\n",
    "        print(f\"Failed to fetch data for {food_item}: {response.status_code}\")\n",
    "    return {\"food\": food_item, \"calories\": \"N/A\", \"protein\": \"N/A\", \"fat\": \"N/A\", \"carbohydrates\": \"N/A\"}\n",
    "\n",
    "# Fetch nutritional values for each category in Food101\n",
    "nutritional_data = []\n",
    "for food in food101_categories:\n",
    "    nutritional_values = fetch_nutritional_values(food)\n",
    "    nutritional_data.append(nutritional_values)\n",
    "    time.sleep(1)  # Adding delay to avoid rate-limiting\n",
    "\n",
    "# Convert to DataFrame\n",
    "nutritional_df = pd.DataFrame(nutritional_data)\n",
    "\n",
    "nutritional_df.to_csv(\"food101_dataset_nutritional_values.csv\", index=False)\n",
    "print(\"Nutritional data saved to food101_dataset_nutritional_values.csv\")"
   ]
  },
  {
   "cell_type": "code",
   "execution_count": null,
   "metadata": {},
   "outputs": [],
   "source": [
    "# {\n",
    "#   \"foods\": [\n",
    "#     {\n",
    "#       \"food_name\": \"pizza\",\n",
    "#       \"nf_calories\": 285,\n",
    "#       \"nf_protein\": 12,\n",
    "#       \"nf_total_fat\": 10,\n",
    "#       \"nf_total_carbohydrate\": 36\n",
    "#     }\n",
    "#   ]\n",
    "# }\n"
   ]
  }
 ],
 "metadata": {
  "kernelspec": {
   "display_name": "Python 3",
   "language": "python",
   "name": "python3"
  },
  "language_info": {
   "codemirror_mode": {
    "name": "ipython",
    "version": 3
   },
   "file_extension": ".py",
   "mimetype": "text/x-python",
   "name": "python",
   "nbconvert_exporter": "python",
   "pygments_lexer": "ipython3",
   "version": "3.11.3"
  }
 },
 "nbformat": 4,
 "nbformat_minor": 2
}
